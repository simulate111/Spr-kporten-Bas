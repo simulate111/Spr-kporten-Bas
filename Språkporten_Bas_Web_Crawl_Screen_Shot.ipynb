{
  "cells": [
    {
      "cell_type": "markdown",
      "metadata": {
        "id": "view-in-github",
        "colab_type": "text"
      },
      "source": [
        "<a href=\"https://colab.research.google.com/github/simulate111/SpraokportenBas/blob/main/Spr%C3%A5kporten_Bas_Web_Crawl_Screen_Shot.ipynb\" target=\"_parent\"><img src=\"https://colab.research.google.com/assets/colab-badge.svg\" alt=\"Open In Colab\"/></a>"
      ]
    },
    {
      "cell_type": "code",
      "execution_count": null,
      "id": "98b06605-ee6f-4dce-8982-cb1cf19681a4",
      "metadata": {
        "id": "98b06605-ee6f-4dce-8982-cb1cf19681a4",
        "outputId": "b034d3dc-9ad7-4a37-e965-0897548cde98"
      },
      "outputs": [
        {
          "name": "stdout",
          "output_type": "stream",
          "text": [
            "Requirement already satisfied: selenium in c:\\users\\moakht\\appdata\\local\\programs\\python\\python313\\lib\\site-packages (4.33.0)\n",
            "Requirement already satisfied: Pillow in c:\\users\\moakht\\appdata\\local\\programs\\python\\python313\\lib\\site-packages (11.2.1)\n",
            "Requirement already satisfied: fpdf in c:\\users\\moakht\\appdata\\local\\programs\\python\\python313\\lib\\site-packages (1.7.2)\n",
            "Requirement already satisfied: urllib3~=2.4.0 in c:\\users\\moakht\\appdata\\local\\programs\\python\\python313\\lib\\site-packages (from urllib3[socks]~=2.4.0->selenium) (2.4.0)\n",
            "Requirement already satisfied: trio~=0.30.0 in c:\\users\\moakht\\appdata\\local\\programs\\python\\python313\\lib\\site-packages (from selenium) (0.30.0)\n",
            "Requirement already satisfied: trio-websocket~=0.12.2 in c:\\users\\moakht\\appdata\\local\\programs\\python\\python313\\lib\\site-packages (from selenium) (0.12.2)\n",
            "Requirement already satisfied: certifi>=2025.4.26 in c:\\users\\moakht\\appdata\\local\\programs\\python\\python313\\lib\\site-packages (from selenium) (2025.6.15)\n",
            "Requirement already satisfied: typing_extensions~=4.13.2 in c:\\users\\moakht\\appdata\\local\\programs\\python\\python313\\lib\\site-packages (from selenium) (4.13.2)\n",
            "Requirement already satisfied: websocket-client~=1.8.0 in c:\\users\\moakht\\appdata\\local\\programs\\python\\python313\\lib\\site-packages (from selenium) (1.8.0)\n",
            "Requirement already satisfied: attrs>=23.2.0 in c:\\users\\moakht\\appdata\\local\\programs\\python\\python313\\lib\\site-packages (from trio~=0.30.0->selenium) (25.3.0)\n",
            "Requirement already satisfied: sortedcontainers in c:\\users\\moakht\\appdata\\local\\programs\\python\\python313\\lib\\site-packages (from trio~=0.30.0->selenium) (2.4.0)\n",
            "Requirement already satisfied: idna in c:\\users\\moakht\\appdata\\local\\programs\\python\\python313\\lib\\site-packages (from trio~=0.30.0->selenium) (3.10)\n",
            "Requirement already satisfied: outcome in c:\\users\\moakht\\appdata\\local\\programs\\python\\python313\\lib\\site-packages (from trio~=0.30.0->selenium) (1.3.0.post0)\n",
            "Requirement already satisfied: sniffio>=1.3.0 in c:\\users\\moakht\\appdata\\local\\programs\\python\\python313\\lib\\site-packages (from trio~=0.30.0->selenium) (1.3.1)\n",
            "Requirement already satisfied: cffi>=1.14 in c:\\users\\moakht\\appdata\\local\\programs\\python\\python313\\lib\\site-packages (from trio~=0.30.0->selenium) (1.17.1)\n",
            "Requirement already satisfied: wsproto>=0.14 in c:\\users\\moakht\\appdata\\local\\programs\\python\\python313\\lib\\site-packages (from trio-websocket~=0.12.2->selenium) (1.2.0)\n",
            "Requirement already satisfied: pysocks!=1.5.7,<2.0,>=1.5.6 in c:\\users\\moakht\\appdata\\local\\programs\\python\\python313\\lib\\site-packages (from urllib3[socks]~=2.4.0->selenium) (1.7.1)\n",
            "Requirement already satisfied: pycparser in c:\\users\\moakht\\appdata\\local\\programs\\python\\python313\\lib\\site-packages (from cffi>=1.14->trio~=0.30.0->selenium) (2.22)\n",
            "Requirement already satisfied: h11<1,>=0.9.0 in c:\\users\\moakht\\appdata\\local\\programs\\python\\python313\\lib\\site-packages (from wsproto>=0.14->trio-websocket~=0.12.2->selenium) (0.16.0)\n",
            "Requirement already satisfied: fpdf in c:\\users\\moakht\\appdata\\local\\programs\\python\\python313\\lib\\site-packages (1.7.2)\n"
          ]
        }
      ],
      "source": [
        "!pip install selenium Pillow fpdf\n",
        "!pip install fpdf"
      ]
    },
    {
      "cell_type": "code",
      "execution_count": null,
      "id": "5ec3fde4-de73-4b65-85c6-3d15974ab5cb",
      "metadata": {
        "id": "5ec3fde4-de73-4b65-85c6-3d15974ab5cb",
        "outputId": "a16db2ce-ebfe-4142-bb28-6e8cc7937449"
      },
      "outputs": [
        {
          "name": "stdout",
          "output_type": "stream",
          "text": [
            "🌀 Loading page 1 (first capture)...\n",
            "📸 Saved screenshots/page_001_repeat1.png\n",
            "🌀 Loading page 1...\n",
            "📸 Saved screenshots/page_001.png\n",
            "🌀 Loading page 2...\n",
            "📸 Saved screenshots/page_002.png\n",
            "🌀 Loading page 3...\n",
            "📸 Saved screenshots/page_003.png\n",
            "🌀 Loading page 4...\n",
            "📸 Saved screenshots/page_004.png\n",
            "🌀 Loading page 5...\n",
            "📸 Saved screenshots/page_005.png\n",
            "🌀 Loading page 6...\n",
            "📸 Saved screenshots/page_006.png\n",
            "🌀 Loading page 7...\n",
            "📸 Saved screenshots/page_007.png\n",
            "🌀 Loading page 8...\n",
            "📸 Saved screenshots/page_008.png\n",
            "🌀 Loading page 9...\n",
            "📸 Saved screenshots/page_009.png\n",
            "🌀 Loading page 10...\n",
            "📸 Saved screenshots/page_010.png\n",
            "🌀 Loading page 11...\n",
            "📸 Saved screenshots/page_011.png\n",
            "🌀 Loading page 12...\n",
            "📸 Saved screenshots/page_012.png\n",
            "🌀 Loading page 13...\n",
            "📸 Saved screenshots/page_013.png\n",
            "🌀 Loading page 14...\n",
            "📸 Saved screenshots/page_014.png\n",
            "🌀 Loading page 15...\n",
            "📸 Saved screenshots/page_015.png\n",
            "🌀 Loading page 16...\n",
            "📸 Saved screenshots/page_016.png\n",
            "🌀 Loading page 17...\n",
            "📸 Saved screenshots/page_017.png\n",
            "🌀 Loading page 18...\n",
            "📸 Saved screenshots/page_018.png\n",
            "🌀 Loading page 19...\n",
            "📸 Saved screenshots/page_019.png\n",
            "🌀 Loading page 20...\n",
            "📸 Saved screenshots/page_020.png\n",
            "🌀 Loading page 21...\n",
            "📸 Saved screenshots/page_021.png\n",
            "🌀 Loading page 22...\n",
            "📸 Saved screenshots/page_022.png\n",
            "🌀 Loading page 23...\n",
            "📸 Saved screenshots/page_023.png\n",
            "🌀 Loading page 24...\n",
            "📸 Saved screenshots/page_024.png\n",
            "🌀 Loading page 25...\n",
            "📸 Saved screenshots/page_025.png\n",
            "🌀 Loading page 26...\n",
            "📸 Saved screenshots/page_026.png\n",
            "🌀 Loading page 27...\n",
            "📸 Saved screenshots/page_027.png\n",
            "🌀 Loading page 28...\n",
            "📸 Saved screenshots/page_028.png\n",
            "🌀 Loading page 29...\n",
            "📸 Saved screenshots/page_029.png\n",
            "🌀 Loading page 30...\n",
            "📸 Saved screenshots/page_030.png\n",
            "🌀 Loading page 31...\n",
            "📸 Saved screenshots/page_031.png\n",
            "🌀 Loading page 32...\n",
            "📸 Saved screenshots/page_032.png\n",
            "🌀 Loading page 33...\n",
            "📸 Saved screenshots/page_033.png\n",
            "🌀 Loading page 34...\n",
            "📸 Saved screenshots/page_034.png\n",
            "🌀 Loading page 35...\n",
            "📸 Saved screenshots/page_035.png\n",
            "🌀 Loading page 36...\n",
            "📸 Saved screenshots/page_036.png\n",
            "🌀 Loading page 37...\n",
            "📸 Saved screenshots/page_037.png\n",
            "🌀 Loading page 38...\n",
            "📸 Saved screenshots/page_038.png\n",
            "🌀 Loading page 39...\n",
            "📸 Saved screenshots/page_039.png\n",
            "🌀 Loading page 40...\n",
            "📸 Saved screenshots/page_040.png\n",
            "🌀 Loading page 41...\n",
            "📸 Saved screenshots/page_041.png\n",
            "🌀 Loading page 42...\n",
            "📸 Saved screenshots/page_042.png\n",
            "🌀 Loading page 43...\n",
            "📸 Saved screenshots/page_043.png\n",
            "🌀 Loading page 44...\n",
            "📸 Saved screenshots/page_044.png\n",
            "🌀 Loading page 45...\n",
            "📸 Saved screenshots/page_045.png\n",
            "🌀 Loading page 46...\n",
            "📸 Saved screenshots/page_046.png\n",
            "🌀 Loading page 47...\n",
            "📸 Saved screenshots/page_047.png\n",
            "🌀 Loading page 48...\n",
            "📸 Saved screenshots/page_048.png\n",
            "🌀 Loading page 49...\n",
            "📸 Saved screenshots/page_049.png\n",
            "🌀 Loading page 50...\n",
            "📸 Saved screenshots/page_050.png\n",
            "🌀 Loading page 51...\n",
            "📸 Saved screenshots/page_051.png\n",
            "🌀 Loading page 52...\n",
            "📸 Saved screenshots/page_052.png\n",
            "🌀 Loading page 53...\n",
            "📸 Saved screenshots/page_053.png\n",
            "🌀 Loading page 54...\n",
            "📸 Saved screenshots/page_054.png\n",
            "🌀 Loading page 55...\n",
            "📸 Saved screenshots/page_055.png\n",
            "🌀 Loading page 56...\n",
            "📸 Saved screenshots/page_056.png\n",
            "🌀 Loading page 57...\n",
            "📸 Saved screenshots/page_057.png\n",
            "🌀 Loading page 58...\n",
            "📸 Saved screenshots/page_058.png\n",
            "🌀 Loading page 59...\n",
            "📸 Saved screenshots/page_059.png\n",
            "🌀 Loading page 60...\n",
            "📸 Saved screenshots/page_060.png\n",
            "🌀 Loading page 61...\n",
            "📸 Saved screenshots/page_061.png\n",
            "🌀 Loading page 62...\n",
            "📸 Saved screenshots/page_062.png\n",
            "🌀 Loading page 63...\n",
            "📸 Saved screenshots/page_063.png\n",
            "🌀 Loading page 64...\n",
            "📸 Saved screenshots/page_064.png\n",
            "🌀 Loading page 65...\n",
            "📸 Saved screenshots/page_065.png\n",
            "🌀 Loading page 66...\n",
            "📸 Saved screenshots/page_066.png\n",
            "🌀 Loading page 67...\n",
            "📸 Saved screenshots/page_067.png\n",
            "🌀 Loading page 68...\n",
            "📸 Saved screenshots/page_068.png\n",
            "🌀 Loading page 69...\n",
            "📸 Saved screenshots/page_069.png\n",
            "🌀 Loading page 70...\n",
            "📸 Saved screenshots/page_070.png\n",
            "🌀 Loading page 71...\n",
            "📸 Saved screenshots/page_071.png\n",
            "🌀 Loading page 72...\n",
            "📸 Saved screenshots/page_072.png\n",
            "🌀 Loading page 73...\n",
            "📸 Saved screenshots/page_073.png\n",
            "🌀 Loading page 74...\n",
            "📸 Saved screenshots/page_074.png\n",
            "🌀 Loading page 75...\n",
            "📸 Saved screenshots/page_075.png\n",
            "🌀 Loading page 76...\n",
            "📸 Saved screenshots/page_076.png\n",
            "🌀 Loading page 77...\n",
            "📸 Saved screenshots/page_077.png\n",
            "🌀 Loading page 78...\n",
            "📸 Saved screenshots/page_078.png\n",
            "🌀 Loading page 79...\n",
            "📸 Saved screenshots/page_079.png\n",
            "🌀 Loading page 80...\n",
            "📸 Saved screenshots/page_080.png\n",
            "🌀 Loading page 81...\n",
            "📸 Saved screenshots/page_081.png\n",
            "🌀 Loading page 82...\n",
            "📸 Saved screenshots/page_082.png\n",
            "🌀 Loading page 83...\n",
            "📸 Saved screenshots/page_083.png\n",
            "🌀 Loading page 84...\n",
            "📸 Saved screenshots/page_084.png\n",
            "🌀 Loading page 85...\n",
            "📸 Saved screenshots/page_085.png\n",
            "🌀 Loading page 86...\n",
            "📸 Saved screenshots/page_086.png\n",
            "🌀 Loading page 87...\n",
            "📸 Saved screenshots/page_087.png\n",
            "🌀 Loading page 88...\n",
            "📸 Saved screenshots/page_088.png\n",
            "🌀 Loading page 89...\n",
            "📸 Saved screenshots/page_089.png\n",
            "🌀 Loading page 90...\n",
            "📸 Saved screenshots/page_090.png\n",
            "🗑️ Deleted screenshots/page_001_repeat1.png\n",
            "✅ Finished capturing pages.\n"
          ]
        }
      ],
      "source": [
        "import time\n",
        "import os\n",
        "from PIL import Image\n",
        "from selenium import webdriver\n",
        "from selenium.webdriver.chrome.options import Options\n",
        "from fpdf import FPDF\n",
        "\n",
        "# === Setup headless Chrome for Google Colab ===\n",
        "chrome_options = Options()\n",
        "chrome_options.add_argument(\"--headless\")\n",
        "chrome_options.add_argument(\"--disable-gpu\")\n",
        "chrome_options.add_argument(\"--no-sandbox\")\n",
        "chrome_options.add_argument(\"--disable-dev-shm-usage\")\n",
        "\n",
        "# Set an initial wide window size\n",
        "#chrome_options.add_argument(\"--window-size=4400x4400\")  # wider default\n",
        "\n",
        "driver = webdriver.Chrome(options=chrome_options)\n",
        "\n",
        "# === Output folder ===\n",
        "os.makedirs(\"screenshots\", exist_ok=True)\n",
        "\n",
        "# === Crawl and screenshot first 5 pages ===\n",
        "BASE_URL = \"https://minprodukt2.studentlitteratur.se/xpub/demo/33737-02_sprakporten_bas/b001#page=\"\n",
        "\n",
        "start_page=1\n",
        "NUM_PAGES = 90\n",
        "page_num =start_page\n",
        "# Repeat the first page (start_page) twice\n",
        "# Capture the first page once before the loop\n",
        "url = BASE_URL + str(start_page)\n",
        "driver.get(url)\n",
        "print(f\"🌀 Loading page {start_page} (first capture)...\")\n",
        "time.sleep(3)\n",
        "driver.set_window_size(4000, 5000)\n",
        "screenshot_path = f\"screenshots/page_{start_page:03}_repeat1.png\"\n",
        "driver.save_screenshot(screenshot_path)\n",
        "print(f\"📸 Saved {screenshot_path}\")\n",
        "\n",
        "# Now loop through all pages including the first one again\n",
        "for page_num in range(start_page, start_page + NUM_PAGES):\n",
        "    url = BASE_URL + str(page_num)\n",
        "    driver.get(url)\n",
        "    print(f\"🌀 Loading page {page_num}...\")\n",
        "    time.sleep(3)\n",
        "    driver.set_window_size(4000, 5000)\n",
        "    screenshot_path = f\"screenshots/page_{page_num:03}.png\"\n",
        "    driver.save_screenshot(screenshot_path)\n",
        "    print(f\"📸 Saved {screenshot_path}\")\n",
        "\n",
        "os.remove(f\"screenshots/page_{start_page:03}_repeat1.png\")\n",
        "print(f\"🗑️ Deleted screenshots/page_{start_page:03}_repeat1.png\")\n",
        "\n",
        "driver.quit()\n",
        "print(\"✅ Finished capturing pages.\")"
      ]
    },
    {
      "cell_type": "code",
      "execution_count": null,
      "id": "edfee4a2-e32b-445f-a207-07ad15f1493f",
      "metadata": {
        "id": "edfee4a2-e32b-445f-a207-07ad15f1493f",
        "outputId": "9477f402-8060-41fa-e456-5d539b95b4eb"
      },
      "outputs": [
        {
          "data": {
            "text/plain": [
              "'\\n# Get sorted list of PNG images\\nimage_files = sorted([f\"screenshots/{fn}\" for fn in os.listdir(\"screenshots\") if fn.endswith(\".png\")])\\n\\n# Create A3 PDF\\npdf = FPDF(orientation=\\'P\\', unit=\\'mm\\', format=\\'A3\\')\\n\\n# Add each image as a full-page A3 image\\nfor img_path in image_files:\\n    pdf.add_page()\\n    pdf.image(img_path, x=0, y=0, w=297, h=420)\\n\\n# Save the PDF\\noutput_path = \"Sprakporten_First90A3.pdf\"\\npdf.output(output_path)\\n\\nprint(f\"✅ PDF saved as {output_path}\")\\n'"
            ]
          },
          "execution_count": 3,
          "metadata": {},
          "output_type": "execute_result"
        }
      ],
      "source": [
        "import os\n",
        "from fpdf import FPDF\n",
        "\"\"\"\n",
        "# Get sorted list of PNG images\n",
        "image_files = sorted([f\"screenshots/{fn}\" for fn in os.listdir(\"screenshots\") if fn.endswith(\".png\")])\n",
        "\n",
        "# Create A3 PDF\n",
        "pdf = FPDF(orientation='P', unit='mm', format='A3')\n",
        "\n",
        "# Add each image as a full-page A3 image\n",
        "for img_path in image_files:\n",
        "    pdf.add_page()\n",
        "    pdf.image(img_path, x=0, y=0, w=297, h=420)\n",
        "\n",
        "# Save the PDF\n",
        "output_path = \"Sprakporten_First90A3.pdf\"\n",
        "pdf.output(output_path)\n",
        "\n",
        "print(f\"✅ PDF saved as {output_path}\")\n",
        "\"\"\""
      ]
    },
    {
      "cell_type": "code",
      "execution_count": null,
      "id": "3675d827-b422-4e1e-bdeb-5467221c0148",
      "metadata": {
        "id": "3675d827-b422-4e1e-bdeb-5467221c0148",
        "outputId": "43c91a7f-5b0e-4595-94aa-351044a682d0"
      },
      "outputs": [
        {
          "name": "stdout",
          "output_type": "stream",
          "text": [
            "✅ PDF saved as Sprakporten_First90A4.pdf\n"
          ]
        }
      ],
      "source": [
        "image_files = sorted([f\"screenshots/{fn}\" for fn in os.listdir(\"screenshots\") if fn.endswith(\".png\")])\n",
        "\n",
        "pdf = FPDF(orientation='P', unit='mm', format='A4')\n",
        "\n",
        "for img_path in image_files:\n",
        "    pdf.add_page()\n",
        "    pdf.image(img_path, x=0, y=0, w=210, h=297)  # fit to A4\n",
        "\n",
        "output_path = \"Sprakporten_First90A4.pdf\"\n",
        "pdf.output(output_path)\n",
        "\n",
        "print(f\"✅ PDF saved as {output_path}\")\n"
      ]
    },
    {
      "cell_type": "code",
      "execution_count": null,
      "id": "35df5f03-db54-432d-a476-d7a32ce7f98e",
      "metadata": {
        "id": "35df5f03-db54-432d-a476-d7a32ce7f98e",
        "outputId": "8864e24e-9cfe-43a1-b51a-04b3449c869f"
      },
      "outputs": [
        {
          "data": {
            "text/html": [
              "\n",
              "        <iframe\n",
              "            width=\"1000\"\n",
              "            height=\"1000\"\n",
              "            src=\"Sprakporten_First90A4.pdf\"\n",
              "            frameborder=\"0\"\n",
              "            allowfullscreen\n",
              "            \n",
              "        ></iframe>\n",
              "        "
            ],
            "text/plain": [
              "<IPython.lib.display.IFrame at 0x1dff5a3f890>"
            ]
          },
          "execution_count": 11,
          "metadata": {},
          "output_type": "execute_result"
        }
      ],
      "source": [
        "from IPython.display import IFrame\n",
        "\n",
        "IFrame(\"Sprakporten_First90A4.pdf\", width=1000, height=1000)"
      ]
    },
    {
      "cell_type": "code",
      "execution_count": null,
      "id": "53020719-f4f0-4ea4-ae3c-a1d8bb494523",
      "metadata": {
        "id": "53020719-f4f0-4ea4-ae3c-a1d8bb494523"
      },
      "outputs": [],
      "source": [
        "import os\n",
        "os.startfile(os.getcwd())\n"
      ]
    },
    {
      "cell_type": "code",
      "execution_count": null,
      "id": "40e0497e-4897-44ce-a1dc-33b1a0be0096",
      "metadata": {
        "id": "40e0497e-4897-44ce-a1dc-33b1a0be0096",
        "outputId": "5db8451c-7ee3-4e35-e8f9-4c73369f787c"
      },
      "outputs": [
        {
          "data": {
            "text/html": [
              "<a href='Sprakporten_First90A4.pdf' target='_blank'>Sprakporten_First90A4.pdf</a><br>"
            ],
            "text/plain": [
              "C:\\Users\\moakht\\Sprakporten_First90A4.pdf"
            ]
          },
          "execution_count": 13,
          "metadata": {},
          "output_type": "execute_result"
        }
      ],
      "source": [
        "from IPython.display import FileLink\n",
        "FileLink(\"Sprakporten_First90A4.pdf\")\n"
      ]
    },
    {
      "cell_type": "code",
      "execution_count": null,
      "id": "ad00aa74-ad8c-447b-a58b-c313f04f59bb",
      "metadata": {
        "id": "ad00aa74-ad8c-447b-a58b-c313f04f59bb"
      },
      "outputs": [],
      "source": []
    }
  ],
  "metadata": {
    "kernelspec": {
      "display_name": "Python 3 (ipykernel)",
      "language": "python",
      "name": "python3"
    },
    "language_info": {
      "codemirror_mode": {
        "name": "ipython",
        "version": 3
      },
      "file_extension": ".py",
      "mimetype": "text/x-python",
      "name": "python",
      "nbconvert_exporter": "python",
      "pygments_lexer": "ipython3",
      "version": "3.13.5"
    },
    "colab": {
      "provenance": [],
      "include_colab_link": true
    }
  },
  "nbformat": 4,
  "nbformat_minor": 5
}