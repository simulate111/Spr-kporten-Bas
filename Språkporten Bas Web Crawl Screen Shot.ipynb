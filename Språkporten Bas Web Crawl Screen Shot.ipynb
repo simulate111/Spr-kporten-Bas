{
 "cells": [
  {
   "cell_type": "code",
   "execution_count": 3,
   "id": "98b06605-ee6f-4dce-8982-cb1cf19681a4",
   "metadata": {},
   "outputs": [
    {
     "name": "stdout",
     "output_type": "stream",
     "text": [
      "Requirement already satisfied: selenium in c:\\users\\moakht\\appdata\\local\\programs\\python\\python313\\lib\\site-packages (4.33.0)\n",
      "Requirement already satisfied: Pillow in c:\\users\\moakht\\appdata\\local\\programs\\python\\python313\\lib\\site-packages (11.2.1)\n",
      "Requirement already satisfied: fpdf in c:\\users\\moakht\\appdata\\local\\programs\\python\\python313\\lib\\site-packages (1.7.2)\n",
      "Requirement already satisfied: urllib3~=2.4.0 in c:\\users\\moakht\\appdata\\local\\programs\\python\\python313\\lib\\site-packages (from urllib3[socks]~=2.4.0->selenium) (2.4.0)\n",
      "Requirement already satisfied: trio~=0.30.0 in c:\\users\\moakht\\appdata\\local\\programs\\python\\python313\\lib\\site-packages (from selenium) (0.30.0)\n",
      "Requirement already satisfied: trio-websocket~=0.12.2 in c:\\users\\moakht\\appdata\\local\\programs\\python\\python313\\lib\\site-packages (from selenium) (0.12.2)\n",
      "Requirement already satisfied: certifi>=2025.4.26 in c:\\users\\moakht\\appdata\\local\\programs\\python\\python313\\lib\\site-packages (from selenium) (2025.6.15)\n",
      "Requirement already satisfied: typing_extensions~=4.13.2 in c:\\users\\moakht\\appdata\\local\\programs\\python\\python313\\lib\\site-packages (from selenium) (4.13.2)\n",
      "Requirement already satisfied: websocket-client~=1.8.0 in c:\\users\\moakht\\appdata\\local\\programs\\python\\python313\\lib\\site-packages (from selenium) (1.8.0)\n",
      "Requirement already satisfied: attrs>=23.2.0 in c:\\users\\moakht\\appdata\\local\\programs\\python\\python313\\lib\\site-packages (from trio~=0.30.0->selenium) (25.3.0)\n",
      "Requirement already satisfied: sortedcontainers in c:\\users\\moakht\\appdata\\local\\programs\\python\\python313\\lib\\site-packages (from trio~=0.30.0->selenium) (2.4.0)\n",
      "Requirement already satisfied: idna in c:\\users\\moakht\\appdata\\local\\programs\\python\\python313\\lib\\site-packages (from trio~=0.30.0->selenium) (3.10)\n",
      "Requirement already satisfied: outcome in c:\\users\\moakht\\appdata\\local\\programs\\python\\python313\\lib\\site-packages (from trio~=0.30.0->selenium) (1.3.0.post0)\n",
      "Requirement already satisfied: sniffio>=1.3.0 in c:\\users\\moakht\\appdata\\local\\programs\\python\\python313\\lib\\site-packages (from trio~=0.30.0->selenium) (1.3.1)\n",
      "Requirement already satisfied: cffi>=1.14 in c:\\users\\moakht\\appdata\\local\\programs\\python\\python313\\lib\\site-packages (from trio~=0.30.0->selenium) (1.17.1)\n",
      "Requirement already satisfied: wsproto>=0.14 in c:\\users\\moakht\\appdata\\local\\programs\\python\\python313\\lib\\site-packages (from trio-websocket~=0.12.2->selenium) (1.2.0)\n",
      "Requirement already satisfied: pysocks!=1.5.7,<2.0,>=1.5.6 in c:\\users\\moakht\\appdata\\local\\programs\\python\\python313\\lib\\site-packages (from urllib3[socks]~=2.4.0->selenium) (1.7.1)\n",
      "Requirement already satisfied: pycparser in c:\\users\\moakht\\appdata\\local\\programs\\python\\python313\\lib\\site-packages (from cffi>=1.14->trio~=0.30.0->selenium) (2.22)\n",
      "Requirement already satisfied: h11<1,>=0.9.0 in c:\\users\\moakht\\appdata\\local\\programs\\python\\python313\\lib\\site-packages (from wsproto>=0.14->trio-websocket~=0.12.2->selenium) (0.16.0)\n",
      "Requirement already satisfied: fpdf in c:\\users\\moakht\\appdata\\local\\programs\\python\\python313\\lib\\site-packages (1.7.2)\n"
     ]
    }
   ],
   "source": [
    "!pip install selenium Pillow fpdf\n",
    "!pip install fpdf"
   ]
  },
  {
   "cell_type": "code",
   "execution_count": 16,
   "id": "5ec3fde4-de73-4b65-85c6-3d15974ab5cb",
   "metadata": {},
   "outputs": [
    {
     "name": "stdout",
     "output_type": "stream",
     "text": [
      "🌀 Loading page 1 (first capture)...\n",
      "📸 Saved screenshots/page_001_repeat1.png\n",
      "🌀 Loading page 1...\n",
      "📸 Saved screenshots/page_001.png\n",
      "🌀 Loading page 2...\n",
      "📸 Saved screenshots/page_002.png\n",
      "✅ Finished capturing pages.\n"
     ]
    }
   ],
   "source": [
    "import time\n",
    "import os\n",
    "from PIL import Image\n",
    "from selenium import webdriver\n",
    "from selenium.webdriver.chrome.options import Options\n",
    "from fpdf import FPDF\n",
    "\n",
    "# === Setup headless Chrome for Google Colab ===\n",
    "chrome_options = Options()\n",
    "chrome_options.add_argument(\"--headless\")\n",
    "chrome_options.add_argument(\"--disable-gpu\")\n",
    "chrome_options.add_argument(\"--no-sandbox\")\n",
    "chrome_options.add_argument(\"--disable-dev-shm-usage\")\n",
    "\n",
    "# Set an initial wide window size\n",
    "#chrome_options.add_argument(\"--window-size=4400x4400\")  # wider default\n",
    "\n",
    "driver = webdriver.Chrome(options=chrome_options)\n",
    "\n",
    "# === Output folder ===\n",
    "os.makedirs(\"screenshots\", exist_ok=True)\n",
    "\n",
    "# === Crawl and screenshot first 5 pages ===\n",
    "BASE_URL = \"https://minprodukt2.studentlitteratur.se/xpub/demo/33737-02_sprakporten_bas/b001#page=\"\n",
    "\n",
    "start_page=1\n",
    "NUM_PAGES = 90\n",
    "page_num =start_page\n",
    "# Repeat the first page (start_page) twice\n",
    "# Capture the first page once before the loop\n",
    "url = BASE_URL + str(start_page)\n",
    "driver.get(url)\n",
    "print(f\"🌀 Loading page {start_page} (first capture)...\")\n",
    "time.sleep(3)\n",
    "driver.set_window_size(4000, 5000)\n",
    "screenshot_path = f\"screenshots/page_{start_page:03}_repeat1.png\"\n",
    "driver.save_screenshot(screenshot_path)\n",
    "print(f\"📸 Saved {screenshot_path}\")\n",
    "\n",
    "# Now loop through all pages including the first one again\n",
    "for page_num in range(start_page, start_page + NUM_PAGES):\n",
    "    url = BASE_URL + str(page_num)\n",
    "    driver.get(url)\n",
    "    print(f\"🌀 Loading page {page_num}...\")\n",
    "    time.sleep(3)\n",
    "    driver.set_window_size(4000, 5000)\n",
    "    screenshot_path = f\"screenshots/page_{page_num:03}.png\"\n",
    "    driver.save_screenshot(screenshot_path)\n",
    "    print(f\"📸 Saved {screenshot_path}\")\n",
    "\n",
    "\n",
    "driver.quit()\n",
    "print(\"✅ Finished capturing pages.\")"
   ]
  },
  {
   "cell_type": "code",
   "execution_count": 21,
   "id": "edfee4a2-e32b-445f-a207-07ad15f1493f",
   "metadata": {},
   "outputs": [
    {
     "name": "stdout",
     "output_type": "stream",
     "text": [
      "✅ PDF saved as Sprakporten_First90A3.pdf\n"
     ]
    }
   ],
   "source": [
    "import os\n",
    "from fpdf import FPDF\n",
    "\n",
    "# Get sorted list of PNG images\n",
    "image_files = sorted([f\"screenshots/{fn}\" for fn in os.listdir(\"screenshots\") if fn.endswith(\".png\")])\n",
    "\n",
    "# Create A3 PDF\n",
    "pdf = FPDF(orientation='P', unit='mm', format='A3')\n",
    "\n",
    "# Add each image as a full-page A3 image\n",
    "for img_path in image_files:\n",
    "    pdf.add_page()\n",
    "    pdf.image(img_path, x=0, y=0, w=297, h=420)\n",
    "\n",
    "# Save the PDF\n",
    "output_path = \"Sprakporten_First90A3.pdf\"\n",
    "pdf.output(output_path)\n",
    "\n",
    "print(f\"✅ PDF saved as {output_path}\")\n"
   ]
  },
  {
   "cell_type": "code",
   "execution_count": 20,
   "id": "3675d827-b422-4e1e-bdeb-5467221c0148",
   "metadata": {},
   "outputs": [
    {
     "name": "stdout",
     "output_type": "stream",
     "text": [
      "✅ PDF saved as Sprakporten_First90A4.pdf\n"
     ]
    }
   ],
   "source": [
    "image_files = sorted([f\"screenshots/{fn}\" for fn in os.listdir(\"screenshots\") if fn.endswith(\".png\")])\n",
    "\n",
    "pdf = FPDF(orientation='P', unit='mm', format='A4')\n",
    "\n",
    "for img_path in image_files:\n",
    "    pdf.add_page()\n",
    "    pdf.image(img_path, x=0, y=0, w=210, h=297)  # fit to A4\n",
    "\n",
    "output_path = \"Sprakporten_First90A4.pdf\"\n",
    "pdf.output(output_path)\n",
    "\n",
    "print(f\"✅ PDF saved as {output_path}\")\n"
   ]
  },
  {
   "cell_type": "code",
   "execution_count": null,
   "id": "35df5f03-db54-432d-a476-d7a32ce7f98e",
   "metadata": {},
   "outputs": [],
   "source": []
  }
 ],
 "metadata": {
  "kernelspec": {
   "display_name": "Python 3 (ipykernel)",
   "language": "python",
   "name": "python3"
  },
  "language_info": {
   "codemirror_mode": {
    "name": "ipython",
    "version": 3
   },
   "file_extension": ".py",
   "mimetype": "text/x-python",
   "name": "python",
   "nbconvert_exporter": "python",
   "pygments_lexer": "ipython3",
   "version": "3.13.5"
  }
 },
 "nbformat": 4,
 "nbformat_minor": 5
}
